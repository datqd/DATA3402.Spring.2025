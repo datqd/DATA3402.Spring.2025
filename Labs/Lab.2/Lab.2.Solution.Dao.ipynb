{
 "cells": [
  {
   "cell_type": "markdown",
   "metadata": {},
   "source": [
    "## Lab 2- Tic Tac Toe\n",
    "\n",
    "In this lab your will build a n x n Tic Tac Toe game. As you do the exercises, make sure your solutions work for any size Tic Tac Toe game. "
   ]
  },
  {
   "cell_type": "markdown",
   "metadata": {},
   "source": [
    "*Exercise 1:* Write a function that creates an n by n matrix (of list of lists) which will represent the state of a Tic Tac Toe game. Let 0, 1, and 2 represent empty, \"X\", and \"O\", respectively.\n"
   ]
  },
  {
   "cell_type": "code",
   "execution_count": 1,
   "metadata": {},
   "outputs": [],
   "source": [
    "# Write you solution here\n",
    "player_1=1\n",
    "player_2=2\n",
    "empty=0\n",
    "\n",
    "player_x_piece='X'\n",
    "player_o_piece='O'\n",
    "empty_space=' '\n",
    "\n",
    "character= {player_1: player_x_piece,\n",
    "            player_2: player_o_piece,\n",
    "            empty: empty_space}\n",
    "\n",
    "def make_board(size):\n",
    "    board=[[empty]*size for i in range(size)]\n",
    "    return board\n",
    "        "
   ]
  },
  {
   "cell_type": "code",
   "execution_count": 3,
   "metadata": {},
   "outputs": [
    {
     "data": {
      "text/plain": [
       "[[0, 0, 0], [0, 0, 0], [0, 0, 0]]"
      ]
     },
     "execution_count": 3,
     "metadata": {},
     "output_type": "execute_result"
    }
   ],
   "source": [
    "# Test your solution here\n",
    "\n",
    "board_1=make_board(3)\n",
    "board_1"
   ]
  },
  {
   "cell_type": "markdown",
   "metadata": {},
   "source": [
    "*Exercise 2:* Write a function that takes 2 integers `n` and `m` as input and draws a `n` by `m` game board. For example the following is a 3x3 board:\n",
    "```\n",
    "   --- --- --- \n",
    "  |   |   |   | \n",
    "   --- --- ---  \n",
    "  |   |   |   | \n",
    "   --- --- ---  \n",
    "  |   |   |   | \n",
    "   --- --- --- \n",
    "   ```"
   ]
  },
  {
   "cell_type": "code",
   "execution_count": 4,
   "metadata": {},
   "outputs": [],
   "source": [
    "# Write you solution here\n",
    "def draw_board(n,m):\n",
    "    for i in range(n):\n",
    "        print(\" \",end='')\n",
    "        print(\"--- \"*m)\n",
    "        for j in range(m):\n",
    "            print(\"|   \",end='')\n",
    "        print(\"|\")\n",
    "    print(\" \",end='')\n",
    "    print(\"--- \"*m)"
   ]
  },
  {
   "cell_type": "code",
   "execution_count": 5,
   "metadata": {},
   "outputs": [
    {
     "name": "stdout",
     "output_type": "stream",
     "text": [
      " --- --- --- \n",
      "|   |   |   |\n",
      " --- --- --- \n",
      "|   |   |   |\n",
      " --- --- --- \n",
      "|   |   |   |\n",
      " --- --- --- \n"
     ]
    }
   ],
   "source": [
    "# Test your solution here: 3x3\n",
    "draw_board(3,3)"
   ]
  },
  {
   "cell_type": "code",
   "execution_count": 6,
   "metadata": {},
   "outputs": [
    {
     "name": "stdout",
     "output_type": "stream",
     "text": [
      " --- --- --- --- --- \n",
      "|   |   |   |   |   |\n",
      " --- --- --- --- --- \n",
      "|   |   |   |   |   |\n",
      " --- --- --- --- --- \n",
      "|   |   |   |   |   |\n",
      " --- --- --- --- --- \n",
      "|   |   |   |   |   |\n",
      " --- --- --- --- --- \n",
      "|   |   |   |   |   |\n",
      " --- --- --- --- --- \n"
     ]
    }
   ],
   "source": [
    "# Test your solution here: 5x5\n",
    "draw_board(5,5)"
   ]
  },
  {
   "cell_type": "code",
   "execution_count": 7,
   "metadata": {},
   "outputs": [
    {
     "name": "stdout",
     "output_type": "stream",
     "text": [
      " --- --- --- \n",
      "|   |   |   |\n",
      " --- --- --- \n",
      "|   |   |   |\n",
      " --- --- --- \n",
      "|   |   |   |\n",
      " --- --- --- \n",
      "|   |   |   |\n",
      " --- --- --- \n"
     ]
    }
   ],
   "source": [
    "# Test your solution here: 4x3\n",
    "draw_board(4,3)"
   ]
  },
  {
   "cell_type": "markdown",
   "metadata": {},
   "source": [
    "*Exercise 3:* Modify exercise 2, so that it takes a matrix of the form from exercise 1 and draws a tic-tac-tie board with \"X\"s and \"O\"s.  "
   ]
  },
  {
   "cell_type": "code",
   "execution_count": 8,
   "metadata": {},
   "outputs": [],
   "source": [
    "# Write you solution here\n",
    "def draw_tictac(board):\n",
    "    for i in range(size):\n",
    "        print(\" \",end='')\n",
    "        print(\"--- \"*size)\n",
    "        for j in range(size):\n",
    "            print(\"|\",character[board[i][j]],end=' ')\n",
    "        print(\"|\")\n",
    "    print(\" \",end='')\n",
    "    print(\"--- \"*size)"
   ]
  },
  {
   "cell_type": "code",
   "execution_count": 9,
   "metadata": {},
   "outputs": [
    {
     "name": "stdout",
     "output_type": "stream",
     "text": [
      " --- --- --- \n",
      "| X |   |   |\n",
      " --- --- --- \n",
      "|   | O |   |\n",
      " --- --- --- \n",
      "|   |   |   |\n",
      " --- --- --- \n"
     ]
    }
   ],
   "source": [
    "# Test your solution here\n",
    "board_1[0][0]=1\n",
    "board_1[1][1]=2\n",
    "\n",
    "draw_tictac(board_1)"
   ]
  },
  {
   "cell_type": "code",
   "execution_count": 10,
   "metadata": {},
   "outputs": [],
   "source": [
    "board_1[0][0]=0\n",
    "board_1[1][1]=0"
   ]
  },
  {
   "cell_type": "markdown",
   "metadata": {},
   "source": [
    "*Exercise 4:* Write a function that takes a `n` by `n` matrix representing a tic-tac-toe game, and returns -1, 0, 1, or 2 indicating the game is incomplete, the game is a draw, player 1 has won, or player 2 has one, respectively. Here are some example inputs you can use to test your code:"
   ]
  },
  {
   "cell_type": "code",
   "execution_count": 11,
   "metadata": {},
   "outputs": [],
   "source": [
    "# Write you solution here\n",
    "def all_same(a_list):\n",
    "    if len(a_list)==0:\n",
    "        return False\n",
    "    for item in a_list:\n",
    "        if a_list[0]!=item:\n",
    "            return False\n",
    "    return a_list[0]\n",
    "\n",
    "def get_diagonals(matrix):\n",
    "    matrix_dimension=len(matrix)\n",
    "    out_1=list()\n",
    "    out_2=list()\n",
    "    for i in range(matrix_dimension):\n",
    "        out_1.append(matrix[i][i])\n",
    "        out_2.append(matrix[i][matrix_dimension-i-1])\n",
    "    return [out_1,out_2]\n",
    "\n",
    "def transpose(matrix):\n",
    "    n_rows=len(matrix)\n",
    "    n_columns=len(matrix[0])\n",
    "    out=[[0]*n_rows for _ in range (n_columns)]\n",
    "    for i in range(len(matrix)):\n",
    "        for j in range(len(matrix[i])):\n",
    "            out[j][i]=matrix[i][j]\n",
    "    return out\n",
    "\n",
    "def win_status(matrix):\n",
    "    status=list()\n",
    "    \n",
    "    status.append(list(map(all_same,matrix)))\n",
    "    status.append(list(map(all_same,get_diagonals(matrix))))\n",
    "    status.append(list(map(all_same,transpose(matrix))))\n",
    "    \n",
    "    for sublist in status:\n",
    "        if 1 in sublist:\n",
    "            return 1\n",
    "        if 2 in sublist:\n",
    "            return 2\n",
    "    \n",
    "    matrix_dimensions=len(matrix)\n",
    "    for i in range(matrix_dimensions):\n",
    "        for j in range(matrix_dimensions):\n",
    "            if matrix[i][j]==0:\n",
    "                return -1\n",
    "    \n",
    "    return 0\n"
   ]
  },
  {
   "cell_type": "code",
   "execution_count": 14,
   "metadata": {},
   "outputs": [
    {
     "data": {
      "text/plain": [
       "2"
      ]
     },
     "execution_count": 14,
     "metadata": {},
     "output_type": "execute_result"
    }
   ],
   "source": [
    "# Test your solution here\n",
    "win_status(winner_is_2)"
   ]
  },
  {
   "cell_type": "code",
   "execution_count": 15,
   "metadata": {},
   "outputs": [
    {
     "data": {
      "text/plain": [
       "1"
      ]
     },
     "execution_count": 15,
     "metadata": {},
     "output_type": "execute_result"
    }
   ],
   "source": [
    "win_status(winner_is_1)"
   ]
  },
  {
   "cell_type": "code",
   "execution_count": 16,
   "metadata": {},
   "outputs": [
    {
     "data": {
      "text/plain": [
       "1"
      ]
     },
     "execution_count": 16,
     "metadata": {},
     "output_type": "execute_result"
    }
   ],
   "source": [
    "win_status(winner_is_also_1)"
   ]
  },
  {
   "cell_type": "code",
   "execution_count": 17,
   "metadata": {},
   "outputs": [
    {
     "data": {
      "text/plain": [
       "-1"
      ]
     },
     "execution_count": 17,
     "metadata": {},
     "output_type": "execute_result"
    }
   ],
   "source": [
    "# The code assumes that even if there's no way to win, players will continue to place X's and O's until board is full\n",
    "# Since the players didn't fill out the board, even though there's no way to win, the game is still incomplete\n",
    "win_status(no_winner)"
   ]
  },
  {
   "cell_type": "code",
   "execution_count": 18,
   "metadata": {},
   "outputs": [
    {
     "data": {
      "text/plain": [
       "-1"
      ]
     },
     "execution_count": 18,
     "metadata": {},
     "output_type": "execute_result"
    }
   ],
   "source": [
    "win_status(also_no_winner)"
   ]
  },
  {
   "cell_type": "code",
   "execution_count": 19,
   "metadata": {},
   "outputs": [
    {
     "data": {
      "text/plain": [
       "0"
      ]
     },
     "execution_count": 19,
     "metadata": {},
     "output_type": "execute_result"
    }
   ],
   "source": [
    "# Here is an example of a draw occurring under the code:\n",
    "\n",
    "example=[[1,1,2],\n",
    "         [2,2,1],\n",
    "         [1,2,1]]\n",
    "\n",
    "win_status(example)"
   ]
  },
  {
   "cell_type": "code",
   "execution_count": 13,
   "metadata": {},
   "outputs": [],
   "source": [
    "winner_is_2 = [[2, 2, 0],\n",
    "\t[2, 1, 0],\n",
    "\t[2, 1, 1]]\n",
    "\n",
    "winner_is_1 = [[1, 2, 0],\n",
    "\t[2, 1, 0],\n",
    "\t[2, 1, 1]]\n",
    "\n",
    "winner_is_also_1 = [[0, 1, 0],\n",
    "\t[2, 1, 0],\n",
    "\t[2, 1, 1]]\n",
    "\n",
    "no_winner = [[1, 2, 0],\n",
    "\t[2, 1, 0],\n",
    "\t[2, 1, 2]]\n",
    "\n",
    "also_no_winner = [[1, 2, 0],\n",
    "\t[2, 1, 0],\n",
    "\t[2, 1, 0]]"
   ]
  },
  {
   "cell_type": "markdown",
   "metadata": {},
   "source": [
    "*Exercise 5:* Write a function that takes a game board, player number, and `(x,y)` coordinates and places \"X\" or \"O\" in the correct location of the game board. Make sure that you only allow filling previously empty locations. Return `True` or `False` to indicate successful placement of \"X\" or \"O\"."
   ]
  },
  {
   "cell_type": "code",
   "execution_count": 20,
   "metadata": {},
   "outputs": [],
   "source": [
    "# Write you solution here\n",
    "def place_piece(board,player,x,y):\n",
    "    if player==player_1:\n",
    "        if board[x][y]==0:\n",
    "            board[x][y]=1\n",
    "            return True\n",
    "        else:\n",
    "            return False\n",
    "    if player==player_2:\n",
    "        if board[x][y]==0:\n",
    "            board[x][y]=2\n",
    "            return True\n",
    "        else:\n",
    "            return False"
   ]
  },
  {
   "cell_type": "code",
   "execution_count": 21,
   "metadata": {},
   "outputs": [
    {
     "data": {
      "text/plain": [
       "True"
      ]
     },
     "execution_count": 21,
     "metadata": {},
     "output_type": "execute_result"
    }
   ],
   "source": [
    "# Test your solution here\n",
    "place_piece(board_1,player_1,0,0)"
   ]
  },
  {
   "cell_type": "code",
   "execution_count": 22,
   "metadata": {},
   "outputs": [
    {
     "data": {
      "text/plain": [
       "[[1, 0, 0], [0, 0, 0], [0, 0, 0]]"
      ]
     },
     "execution_count": 22,
     "metadata": {},
     "output_type": "execute_result"
    }
   ],
   "source": [
    "board_1"
   ]
  },
  {
   "cell_type": "code",
   "execution_count": 23,
   "metadata": {},
   "outputs": [],
   "source": [
    "board_1[0][0]=0"
   ]
  },
  {
   "cell_type": "markdown",
   "metadata": {},
   "source": [
    "*Exercise 6:* Modify Exercise 3 to show column and row labels so that players can specify location using \"A2\" or \"C1\"."
   ]
  },
  {
   "cell_type": "code",
   "execution_count": 41,
   "metadata": {},
   "outputs": [],
   "source": [
    "# Write you solution here\n",
    "row_names=list(\"ABCDEFGHIJKLMNOPQRSTUVWXYZ\")\n",
    "row_map=dict(zip(row_names,range(26)))\n",
    "\n",
    "column_names=list(map(str,range(1,26+1)))\n",
    "column_map=dict(zip(column_names,range(size)))\n",
    "\n",
    "def better_draw_tictac(board):\n",
    "    row_names=list(\"ABCDEFGHIJKLMNOPQRSTUVWXYZ\")\n",
    "    row_map=dict(zip(row_names,range(len(board))))\n",
    "\n",
    "    column_names=list(map(str,range(1,len(board)+1)))\n",
    "    column_map=dict(zip(column_names,range(len(board))))\n",
    "\n",
    "    for k in range(len(board)):\n",
    "        print(\"   \",end='')\n",
    "        print(column_names[k],end='')\n",
    "    print()\n",
    "    for i in range(len(board)):\n",
    "        print(\"  \",end='')\n",
    "        print(\"--- \"*len(board))\n",
    "        print(row_names[i],end='')\n",
    "        for j in range(len(board)):\n",
    "            print(\"|\",character[board[i][j]],end=' ')\n",
    "        print(\"|\")\n",
    "    print(\"  \",end='')\n",
    "    print(\"--- \"*len(board))"
   ]
  },
  {
   "cell_type": "code",
   "execution_count": 42,
   "metadata": {},
   "outputs": [
    {
     "name": "stdout",
     "output_type": "stream",
     "text": [
      "{'A': 0, 'B': 1, 'C': 2, 'D': 3, 'E': 4, 'F': 5, 'G': 6, 'H': 7, 'I': 8, 'J': 9, 'K': 10, 'L': 11, 'M': 12, 'N': 13, 'O': 14, 'P': 15, 'Q': 16, 'R': 17, 'S': 18, 'T': 19, 'U': 20, 'V': 21, 'W': 22, 'X': 23, 'Y': 24, 'Z': 25}\n"
     ]
    }
   ],
   "source": [
    "print(row_map)"
   ]
  },
  {
   "cell_type": "code",
   "execution_count": 25,
   "metadata": {},
   "outputs": [
    {
     "name": "stdout",
     "output_type": "stream",
     "text": [
      "   1   2   3\n",
      "  --- --- --- \n",
      "A|   |   |   |\n",
      "  --- --- --- \n",
      "B|   |   |   |\n",
      "  --- --- --- \n",
      "C|   |   |   |\n",
      "  --- --- --- \n"
     ]
    }
   ],
   "source": [
    "# Test your solution here\n",
    "better_draw_tictac(board_1)"
   ]
  },
  {
   "cell_type": "markdown",
   "metadata": {},
   "source": [
    "*Exercise 7:* Write a function that takes a board, player number, and location specified as in exercise 6 and then calls exercise 5 to correctly modify the board.  "
   ]
  },
  {
   "cell_type": "code",
   "execution_count": 43,
   "metadata": {},
   "outputs": [],
   "source": [
    "# Write you solution here\n",
    "def parse_location(location):\n",
    "    if not isinstance(location,str):\n",
    "        print(\"Bad Input. Location must be string.\")\n",
    "        return False\n",
    "    \n",
    "    if len(location)!=2:\n",
    "        print(\"Bad Input. Location must be 2 characters.\")\n",
    "        return False\n",
    "    \n",
    "    row=location[0].upper()\n",
    "    col=location[1].upper()\n",
    "    \n",
    "    if not row in row_names:\n",
    "        print(\"Bad Row.\")\n",
    "        return False\n",
    "\n",
    "    if not col in column_names:\n",
    "        print(\"Bad Column.\")\n",
    "        return False\n",
    "\n",
    "    return row_map[row],column_map[col]\n",
    "\n",
    "def better_place_piece(board,player,location):\n",
    "    loc=parse_location(location)\n",
    "    x,y=loc\n",
    "    if player==player_1:\n",
    "        if board[x][y]==0:\n",
    "            board[x][y]=1\n",
    "            return True\n",
    "        else:\n",
    "            return False\n",
    "    if player==player_2:\n",
    "        if board[x][y]==0:\n",
    "            board[x][y]=2\n",
    "            return True\n",
    "        else:\n",
    "            return False"
   ]
  },
  {
   "cell_type": "code",
   "execution_count": 27,
   "metadata": {},
   "outputs": [
    {
     "data": {
      "text/plain": [
       "True"
      ]
     },
     "execution_count": 27,
     "metadata": {},
     "output_type": "execute_result"
    }
   ],
   "source": [
    "# Test your solution here\n",
    "better_place_piece(board_1,player_1,\"A1\")"
   ]
  },
  {
   "cell_type": "code",
   "execution_count": 28,
   "metadata": {},
   "outputs": [
    {
     "name": "stdout",
     "output_type": "stream",
     "text": [
      "   1   2   3\n",
      "  --- --- --- \n",
      "A| X |   |   |\n",
      "  --- --- --- \n",
      "B|   |   |   |\n",
      "  --- --- --- \n",
      "C|   |   |   |\n",
      "  --- --- --- \n"
     ]
    }
   ],
   "source": [
    "better_draw_tictac(board_1)"
   ]
  },
  {
   "cell_type": "code",
   "execution_count": 29,
   "metadata": {},
   "outputs": [],
   "source": [
    "board_1[0][0]=0"
   ]
  },
  {
   "cell_type": "markdown",
   "metadata": {},
   "source": [
    "*Exercise 8:* Write a function is called with a board and player number, takes input from the player using python's `input`, and modifies the board using your function from exercise 7. Note that you should keep asking for input until you have gotten a valid input that results in a valid move."
   ]
  },
  {
   "cell_type": "code",
   "execution_count": 30,
   "metadata": {},
   "outputs": [],
   "source": [
    "# Write you solution here\n",
    "def take_move(board,player):\n",
    "    valid_move=False\n",
    "    \n",
    "    while not valid_move:\n",
    "        location_str=input(\"Input location:\")\n",
    "            \n",
    "        valid_move = better_place_piece(board,player,location_str)"
   ]
  },
  {
   "cell_type": "code",
   "execution_count": 31,
   "metadata": {},
   "outputs": [
    {
     "name": "stdout",
     "output_type": "stream",
     "text": [
      "Input location:A1\n"
     ]
    }
   ],
   "source": [
    "# Test your solution here\n",
    "take_move(board_1,player_1)"
   ]
  },
  {
   "cell_type": "code",
   "execution_count": 32,
   "metadata": {},
   "outputs": [
    {
     "name": "stdout",
     "output_type": "stream",
     "text": [
      "   1   2   3\n",
      "  --- --- --- \n",
      "A| X |   |   |\n",
      "  --- --- --- \n",
      "B|   |   |   |\n",
      "  --- --- --- \n",
      "C|   |   |   |\n",
      "  --- --- --- \n"
     ]
    }
   ],
   "source": [
    "better_draw_tictac(board_1)"
   ]
  },
  {
   "cell_type": "code",
   "execution_count": 33,
   "metadata": {},
   "outputs": [],
   "source": [
    "board_1[0][0]=0"
   ]
  },
  {
   "cell_type": "markdown",
   "metadata": {},
   "source": [
    "*Exercise 9:* Use all of the previous exercises to implement a full tic-tac-toe game, where an appropriate board is drawn, 2 players are repeatedly asked for a location coordinates of where they wish to place a mark, and the game status is checked until a player wins or a draw occurs."
   ]
  },
  {
   "cell_type": "code",
   "execution_count": 34,
   "metadata": {},
   "outputs": [],
   "source": [
    "# Write you solution here\n",
    "def tic_tac_toe(size):\n",
    "    print(\"It's time for TIC TAC TOE!!!\")\n",
    "    print(\"----------------------------\")\n",
    "    \n",
    "    board_0=make_board(size)\n",
    "    \n",
    "    player=player_1\n",
    "    \n",
    "    game_done=-1\n",
    "    \n",
    "    while game_done==-1:\n",
    "        better_draw_tictac(board_0)\n",
    "        \n",
    "        print(\"Player\",player,\"move:\")\n",
    "        take_move(board_0,player)\n",
    "        \n",
    "        game_done=win_status(board_0)\n",
    "        \n",
    "        if player==player_1:\n",
    "            player=player_2\n",
    "        else:\n",
    "            player=player_1\n",
    "            \n",
    "    better_draw_tictac(board_0)\n",
    "    \n",
    "    if game_done==0:\n",
    "        print(\"It's a draw, try again!\")\n",
    "    if game_done==1:\n",
    "        print(\"Winner is Player\",game_done,\"! Good job!\")\n",
    "    if game_done==2:\n",
    "        print(\"Winner is Player\",game_done,\"! Good job!\")\n",
    "    "
   ]
  },
  {
   "cell_type": "code",
   "execution_count": 35,
   "metadata": {},
   "outputs": [
    {
     "name": "stdout",
     "output_type": "stream",
     "text": [
      "It's time for TIC TAC TOE!!!\n",
      "----------------------------\n",
      "   1   2   3\n",
      "  --- --- --- \n",
      "A|   |   |   |\n",
      "  --- --- --- \n",
      "B|   |   |   |\n",
      "  --- --- --- \n",
      "C|   |   |   |\n",
      "  --- --- --- \n",
      "Player 1 move:\n",
      "Input location:A1\n",
      "   1   2   3\n",
      "  --- --- --- \n",
      "A| X |   |   |\n",
      "  --- --- --- \n",
      "B|   |   |   |\n",
      "  --- --- --- \n",
      "C|   |   |   |\n",
      "  --- --- --- \n",
      "Player 2 move:\n",
      "Input location:B2\n",
      "   1   2   3\n",
      "  --- --- --- \n",
      "A| X |   |   |\n",
      "  --- --- --- \n",
      "B|   | O |   |\n",
      "  --- --- --- \n",
      "C|   |   |   |\n",
      "  --- --- --- \n",
      "Player 1 move:\n",
      "Input location:A3\n",
      "   1   2   3\n",
      "  --- --- --- \n",
      "A| X |   | X |\n",
      "  --- --- --- \n",
      "B|   | O |   |\n",
      "  --- --- --- \n",
      "C|   |   |   |\n",
      "  --- --- --- \n",
      "Player 2 move:\n",
      "Input location:A2\n",
      "   1   2   3\n",
      "  --- --- --- \n",
      "A| X | O | X |\n",
      "  --- --- --- \n",
      "B|   | O |   |\n",
      "  --- --- --- \n",
      "C|   |   |   |\n",
      "  --- --- --- \n",
      "Player 1 move:\n",
      "Input location:C1\n",
      "   1   2   3\n",
      "  --- --- --- \n",
      "A| X | O | X |\n",
      "  --- --- --- \n",
      "B|   | O |   |\n",
      "  --- --- --- \n",
      "C| X |   |   |\n",
      "  --- --- --- \n",
      "Player 2 move:\n",
      "Input location:C2\n",
      "   1   2   3\n",
      "  --- --- --- \n",
      "A| X | O | X |\n",
      "  --- --- --- \n",
      "B|   | O |   |\n",
      "  --- --- --- \n",
      "C| X | O |   |\n",
      "  --- --- --- \n",
      "Winner is Player 2 ! Good job!\n"
     ]
    }
   ],
   "source": [
    "# Test your solution here\n",
    "\n",
    "\n",
    "tic_tac_toe(3)"
   ]
  },
  {
   "cell_type": "markdown",
   "metadata": {},
   "source": [
    "*Exercise 10:* Test that your game works for 5x5 Tic Tac Toe.  "
   ]
  },
  {
   "cell_type": "code",
   "execution_count": 44,
   "metadata": {},
   "outputs": [
    {
     "name": "stdout",
     "output_type": "stream",
     "text": [
      "It's time for TIC TAC TOE!!!\n",
      "----------------------------\n",
      "   1   2   3   4   5\n",
      "  --- --- --- --- --- \n",
      "A|   |   |   |   |   |\n",
      "  --- --- --- --- --- \n",
      "B|   |   |   |   |   |\n",
      "  --- --- --- --- --- \n",
      "C|   |   |   |   |   |\n",
      "  --- --- --- --- --- \n",
      "D|   |   |   |   |   |\n",
      "  --- --- --- --- --- \n",
      "E|   |   |   |   |   |\n",
      "  --- --- --- --- --- \n",
      "Player 1 move:\n",
      "Input location:D1\n",
      "   1   2   3   4   5\n",
      "  --- --- --- --- --- \n",
      "A|   |   |   |   |   |\n",
      "  --- --- --- --- --- \n",
      "B|   |   |   |   |   |\n",
      "  --- --- --- --- --- \n",
      "C|   |   |   |   |   |\n",
      "  --- --- --- --- --- \n",
      "D| X |   |   |   |   |\n",
      "  --- --- --- --- --- \n",
      "E|   |   |   |   |   |\n",
      "  --- --- --- --- --- \n",
      "Player 2 move:\n",
      "Input location:D2\n",
      "   1   2   3   4   5\n",
      "  --- --- --- --- --- \n",
      "A|   |   |   |   |   |\n",
      "  --- --- --- --- --- \n",
      "B|   |   |   |   |   |\n",
      "  --- --- --- --- --- \n",
      "C|   |   |   |   |   |\n",
      "  --- --- --- --- --- \n",
      "D| X | O |   |   |   |\n",
      "  --- --- --- --- --- \n",
      "E|   |   |   |   |   |\n",
      "  --- --- --- --- --- \n",
      "Player 1 move:\n",
      "Input location:A1\n",
      "   1   2   3   4   5\n",
      "  --- --- --- --- --- \n",
      "A| X |   |   |   |   |\n",
      "  --- --- --- --- --- \n",
      "B|   |   |   |   |   |\n",
      "  --- --- --- --- --- \n",
      "C|   |   |   |   |   |\n",
      "  --- --- --- --- --- \n",
      "D| X | O |   |   |   |\n",
      "  --- --- --- --- --- \n",
      "E|   |   |   |   |   |\n",
      "  --- --- --- --- --- \n",
      "Player 2 move:\n",
      "Input location:A2\n",
      "   1   2   3   4   5\n",
      "  --- --- --- --- --- \n",
      "A| X | O |   |   |   |\n",
      "  --- --- --- --- --- \n",
      "B|   |   |   |   |   |\n",
      "  --- --- --- --- --- \n",
      "C|   |   |   |   |   |\n",
      "  --- --- --- --- --- \n",
      "D| X | O |   |   |   |\n",
      "  --- --- --- --- --- \n",
      "E|   |   |   |   |   |\n",
      "  --- --- --- --- --- \n",
      "Player 1 move:\n",
      "Input location:B1\n",
      "   1   2   3   4   5\n",
      "  --- --- --- --- --- \n",
      "A| X | O |   |   |   |\n",
      "  --- --- --- --- --- \n",
      "B| X |   |   |   |   |\n",
      "  --- --- --- --- --- \n",
      "C|   |   |   |   |   |\n",
      "  --- --- --- --- --- \n",
      "D| X | O |   |   |   |\n",
      "  --- --- --- --- --- \n",
      "E|   |   |   |   |   |\n",
      "  --- --- --- --- --- \n",
      "Player 2 move:\n",
      "Input location:B2\n",
      "   1   2   3   4   5\n",
      "  --- --- --- --- --- \n",
      "A| X | O |   |   |   |\n",
      "  --- --- --- --- --- \n",
      "B| X | O |   |   |   |\n",
      "  --- --- --- --- --- \n",
      "C|   |   |   |   |   |\n",
      "  --- --- --- --- --- \n",
      "D| X | O |   |   |   |\n",
      "  --- --- --- --- --- \n",
      "E|   |   |   |   |   |\n",
      "  --- --- --- --- --- \n",
      "Player 1 move:\n",
      "Input location:C1\n",
      "   1   2   3   4   5\n",
      "  --- --- --- --- --- \n",
      "A| X | O |   |   |   |\n",
      "  --- --- --- --- --- \n",
      "B| X | O |   |   |   |\n",
      "  --- --- --- --- --- \n",
      "C| X |   |   |   |   |\n",
      "  --- --- --- --- --- \n",
      "D| X | O |   |   |   |\n",
      "  --- --- --- --- --- \n",
      "E|   |   |   |   |   |\n",
      "  --- --- --- --- --- \n",
      "Player 2 move:\n",
      "Input location:C2\n",
      "   1   2   3   4   5\n",
      "  --- --- --- --- --- \n",
      "A| X | O |   |   |   |\n",
      "  --- --- --- --- --- \n",
      "B| X | O |   |   |   |\n",
      "  --- --- --- --- --- \n",
      "C| X | O |   |   |   |\n",
      "  --- --- --- --- --- \n",
      "D| X | O |   |   |   |\n",
      "  --- --- --- --- --- \n",
      "E|   |   |   |   |   |\n",
      "  --- --- --- --- --- \n",
      "Player 1 move:\n",
      "Input location:E1\n",
      "   1   2   3   4   5\n",
      "  --- --- --- --- --- \n",
      "A| X | O |   |   |   |\n",
      "  --- --- --- --- --- \n",
      "B| X | O |   |   |   |\n",
      "  --- --- --- --- --- \n",
      "C| X | O |   |   |   |\n",
      "  --- --- --- --- --- \n",
      "D| X | O |   |   |   |\n",
      "  --- --- --- --- --- \n",
      "E| X |   |   |   |   |\n",
      "  --- --- --- --- --- \n",
      "Winner is Player 1 ! Good job!\n"
     ]
    }
   ],
   "source": [
    "# Test your solution here\n",
    "\n",
    "\n",
    "tic_tac_toe(5)"
   ]
  },
  {
   "cell_type": "markdown",
   "metadata": {},
   "source": [
    "*Exercise 11:* (Advanced / Challenge) Develop a version of the game where one player is the computer. Note that you don't need to do an extensive seach for the best move. You can have the computer simply protect against loosing and otherwise try to win with straight or diagonal patterns."
   ]
  },
  {
   "cell_type": "code",
   "execution_count": null,
   "metadata": {
    "collapsed": true
   },
   "outputs": [],
   "source": [
    "# Write you solution here"
   ]
  },
  {
   "cell_type": "code",
   "execution_count": null,
   "metadata": {
    "collapsed": true
   },
   "outputs": [],
   "source": [
    "# Test your solution here"
   ]
  }
 ],
 "metadata": {
  "kernelspec": {
   "display_name": "Python 3 (ipykernel)",
   "language": "python",
   "name": "python3"
  },
  "language_info": {
   "codemirror_mode": {
    "name": "ipython",
    "version": 3
   },
   "file_extension": ".py",
   "mimetype": "text/x-python",
   "name": "python",
   "nbconvert_exporter": "python",
   "pygments_lexer": "ipython3",
   "version": "3.12.3"
  }
 },
 "nbformat": 4,
 "nbformat_minor": 2
}
